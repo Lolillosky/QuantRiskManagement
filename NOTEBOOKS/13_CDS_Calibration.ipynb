{
 "cells": [
  {
   "cell_type": "markdown",
   "metadata": {},
   "source": [
    "# Quantitative Risk Management\n",
    "\n",
    "Click <a href=\"https://colab.research.google.com/github/Lolillosky/QuantRiskManagement/blob/main/NOTEBOOKS/13_CDS_Calibration.ipynb\">\n",
    "    <img src=\"https://upload.wikimedia.org/wikipedia/commons/d/d0/Google_Colaboratory_SVG_Logo.svg\" width=\"30\" alt=\"Google Colab\">\n",
    "</a> to open this notebook in Google Colab.\n"
   ]
  },
  {
   "cell_type": "markdown",
   "metadata": {},
   "source": [
    "In this exercise, you are going to bootstrap a zero coupon curve from par swap rates. After that, you will bootstrap a survival probability curve from CDS quotes.\n",
    "\n",
    "## Import main libraries:"
   ]
  },
  {
   "cell_type": "code",
   "execution_count": null,
   "metadata": {},
   "outputs": [],
   "source": [
    "import numpy as np\n",
    "import matplotlib.pyplot as plt\n",
    "import torch\n",
    "import pandas as pd\n"
   ]
  },
  {
   "cell_type": "markdown",
   "metadata": {},
   "source": [
    "## Import the following libraries from the repository:"
   ]
  },
  {
   "cell_type": "code",
   "execution_count": null,
   "metadata": {},
   "outputs": [],
   "source": [
    "import sys\n",
    "#sys.path.append('../CODE')  # Adjust the path as necessary\n",
    "\n",
    "\n",
    "from IPython.display import clear_output\n",
    "\n",
    "!rm -r {'QuantRiskManagement'}\n",
    "\n",
    "!git clone https://github.com/Lolillosky/QuantRiskManagement.git\n",
    "\n",
    "import sys\n",
    "sys.modules.pop\n",
    "sys.path.insert(0,'QuantRiskManagement/CODE')\n",
    "\n",
    "clear_output()\n"
   ]
  },
  {
   "cell_type": "code",
   "execution_count": null,
   "metadata": {},
   "outputs": [],
   "source": [
    "\n",
    "import pytorch_ir_curve\n"
   ]
  },
  {
   "cell_type": "markdown",
   "metadata": {},
   "source": [
    "## Load the swap data\n",
    "\n",
    "In '../DATA/IR_Swap.csv', you have par swap rates for different maturities."
   ]
  },
  {
   "cell_type": "code",
   "execution_count": null,
   "metadata": {},
   "outputs": [],
   "source": [
    "swap_rates = pd.read_csv('../DATA/IR_Swap.csv')\n",
    "#swap_rates = pd.read_csv('/content/QuantRiskManagement/DATA/IR_Swap.csv')\n",
    "\n",
    "swap_rates['Rate'] /= 100\n"
   ]
  },
  {
   "cell_type": "markdown",
   "metadata": {},
   "source": [
    "Let us calibrate the zero coupon curve."
   ]
  },
  {
   "cell_type": "code",
   "execution_count": null,
   "metadata": {},
   "outputs": [],
   "source": [
    "fitter = pytorch_ir_curve.CurveFitter(swap_rates['Mat (yrs)'].values, swap_rates['Rate'].values, 1.0)\n",
    "\n",
    "zc_rates = fitter.fit()\n",
    "\n",
    "ir_curve = pytorch_ir_curve.IR_Curve(torch.tensor(swap_rates['Mat (yrs)'].values), torch.tensor(zc_rates))"
   ]
  },
  {
   "cell_type": "code",
   "execution_count": null,
   "metadata": {},
   "outputs": [],
   "source": [
    "plt.plot(swap_rates['Mat (yrs)'], swap_rates['Rate'], '.', label='Swap Rates')\n",
    "plt.plot(swap_rates['Mat (yrs)'], zc_rates, '.', label='Zero Coupon Rates')\n",
    "\n",
    "plt.legend()\n",
    "\n",
    "plt.ylim((0))\n"
   ]
  },
  {
   "cell_type": "markdown",
   "metadata": {},
   "source": [
    "## CDS data\n",
    "\n",
    "Let us parse the CDS quotes data"
   ]
  },
  {
   "cell_type": "code",
   "execution_count": null,
   "metadata": {},
   "outputs": [],
   "source": [
    "CDS_Data = pd.read_csv('../DATA/CDS_Data.csv', sep=';')\n",
    "#CDS_Data = pd.read_csv('/content/QuantRiskManagement/DATA/CDS_Data.csv', sep=';')\n",
    "\n",
    "\n",
    "CDS_Data.head()"
   ]
  },
  {
   "cell_type": "markdown",
   "metadata": {},
   "source": [
    "And now a little bit of pre-processing"
   ]
  },
  {
   "cell_type": "code",
   "execution_count": null,
   "metadata": {},
   "outputs": [],
   "source": [
    "curve_columns = ['Spread6M', 'Spread1Y', 'Spread2Y', 'Spread3Y', 'Spread4Y',\n",
    "       'Spread5Y', 'Spread7Y', 'Spread10Y', 'Spread15Y', 'Spread20Y',\n",
    "       'Spread30Y']\n",
    "\n",
    "rec_column = ['Recovery']"
   ]
  },
  {
   "cell_type": "code",
   "execution_count": null,
   "metadata": {},
   "outputs": [],
   "source": [
    "import re\n",
    "\n",
    "def extract_years(input_string):\n",
    "    match = re.search(r\"(\\d+)(M|Y)\", input_string)\n",
    "    if match:\n",
    "        number = int(match.group(1))\n",
    "        unit = match.group(2)\n",
    "        if unit == 'Y':\n",
    "            return number\n",
    "        elif unit == 'M':\n",
    "            return number / 12.0  # Convert months to fraction of a year\n",
    "    return None\n",
    "\n",
    "\n",
    "maturities = [extract_years(s) for s in curve_columns]\n",
    "print(maturities)"
   ]
  },
  {
   "cell_type": "code",
   "execution_count": null,
   "metadata": {},
   "outputs": [],
   "source": [
    "CDS_Data[curve_columns + rec_column] = CDS_Data[curve_columns + rec_column].replace('%', '',regex=True).astype(float) / 100"
   ]
  },
  {
   "cell_type": "code",
   "execution_count": null,
   "metadata": {},
   "outputs": [],
   "source": [
    "#Telefonica S A\t8FGCBA\tSNRFOR\tEUR\tCR14\n",
    "\n",
    "\n",
    "cds_curve = CDS_Data[(CDS_Data['ShortName'] == 'Telefonica S A') &\n",
    "         (CDS_Data['Tier'] == 'SNRFOR') & \n",
    "         (CDS_Data['Ccy'] == 'EUR') & \n",
    "         (CDS_Data['DocClause'] == 'CR14')][curve_columns]"
   ]
  },
  {
   "cell_type": "markdown",
   "metadata": {},
   "source": [
    "Let us plot the CDS curve"
   ]
  },
  {
   "cell_type": "code",
   "execution_count": null,
   "metadata": {},
   "outputs": [],
   "source": [
    "plt.plot(maturities, cds_curve.values[0], 'o-')"
   ]
  },
  {
   "cell_type": "markdown",
   "metadata": {},
   "source": [
    "## CDS Curve Calibration"
   ]
  },
  {
   "cell_type": "code",
   "execution_count": null,
   "metadata": {},
   "outputs": [],
   "source": [
    "# Your code here"
   ]
  }
 ],
 "metadata": {
  "kernelspec": {
   "display_name": "Python 3",
   "language": "python",
   "name": "python3"
  },
  "language_info": {
   "codemirror_mode": {
    "name": "ipython",
    "version": 3
   },
   "file_extension": ".py",
   "mimetype": "text/x-python",
   "name": "python",
   "nbconvert_exporter": "python",
   "pygments_lexer": "ipython3",
   "version": "3.10.13"
  }
 },
 "nbformat": 4,
 "nbformat_minor": 2
}
