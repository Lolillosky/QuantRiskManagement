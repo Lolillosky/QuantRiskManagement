{
 "cells": [
  {
   "cell_type": "markdown",
   "metadata": {},
   "source": [
    "# Quantitative Risk Management\n",
    "\n",
    "Click <a href=\"https://colab.research.google.com/github/Lolillosky/QuantRiskManagement/blob/main/NOTEBOOKS/brow_motion_ito_lemma.ipynb\">\n",
    "    <img src=\"https://upload.wikimedia.org/wikipedia/commons/d/d0/Google_Colaboratory_SVG_Logo.svg\" width=\"30\" alt=\"Google Colab\">\n",
    "</a> to open this notebook in Google Colab.\n"
   ]
  },
  {
   "cell_type": "markdown",
   "metadata": {},
   "source": [
    "## Brownian Motion and Itô's Lemma in a Nutschell"
   ]
  },
  {
   "cell_type": "code",
   "execution_count": null,
   "metadata": {},
   "outputs": [],
   "source": [
    "import numpy as np\n",
    "import matplotlib.pyplot as plt\n",
    "from scipy.stats import norm"
   ]
  },
  {
   "cell_type": "code",
   "execution_count": null,
   "metadata": {},
   "outputs": [],
   "source": [
    "num_steps = 1000\n",
    "num_paths = 100\n",
    "TTM = 1\n",
    "\n",
    "delta_t = TTM / num_steps\n",
    "\n",
    "unif = np.random.uniform(0,1,(num_paths, num_steps))\n",
    "\n",
    "gamma = 0.5\n",
    "\n",
    "\n",
    "brow = np.cumsum(np.concatenate([np.zeros((num_paths, 1)), np.power(delta_t, gamma) * 2*((unif > 0.5).astype(float)-0.5)], axis =1), axis =1)\n",
    "\n",
    "plt.plot(np.linspace(0,TTM,num_steps+1),brow.T);\n",
    "\n",
    "#plt.ylim(-15,15)\n",
    "\n",
    "\n",
    "\n",
    "\n"
   ]
  },
  {
   "cell_type": "code",
   "execution_count": null,
   "metadata": {},
   "outputs": [],
   "source": [
    "num_steps = 100000\n",
    "num_paths = 100\n",
    "TTM = 1\n",
    "\n",
    "delta_t = TTM / num_steps\n",
    "\n",
    "brown_inc = np.random.normal(0,1,(num_paths, num_steps))*np.power(delta_t, 0.5)\n",
    "\n",
    "\n",
    "brow = np.cumsum(np.concatenate([np.zeros((num_paths, 1)),  brown_inc], axis = 1), axis =1)\n",
    "\n",
    "plt.plot(np.linspace(0,TTM,num_steps+1),brow.T);\n"
   ]
  },
  {
   "cell_type": "code",
   "execution_count": null,
   "metadata": {},
   "outputs": [],
   "source": [
    "\n",
    "integral = np.cumsum(np.concatenate([np.zeros((num_paths, 1)),  brown_inc**2], axis = 1), axis =1)\n",
    "\n",
    "\n",
    "plt.plot(np.linspace(0,TTM,num_steps+1), integral.T);"
   ]
  },
  {
   "cell_type": "code",
   "execution_count": null,
   "metadata": {},
   "outputs": [],
   "source": []
  }
 ],
 "metadata": {
  "kernelspec": {
   "display_name": "definitive",
   "language": "python",
   "name": "python3"
  },
  "language_info": {
   "codemirror_mode": {
    "name": "ipython",
    "version": 3
   },
   "file_extension": ".py",
   "mimetype": "text/x-python",
   "name": "python",
   "nbconvert_exporter": "python",
   "pygments_lexer": "ipython3",
   "version": "3.10.13"
  }
 },
 "nbformat": 4,
 "nbformat_minor": 2
}
