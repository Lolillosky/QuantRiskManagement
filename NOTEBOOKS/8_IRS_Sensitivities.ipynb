{
 "cells": [
  {
   "cell_type": "markdown",
   "metadata": {},
   "source": [
    "# Quantitative Risk Management\n",
    "\n",
    "Click <a href=\"https://colab.research.google.com/github/Lolillosky/QuantRiskManagement/blob/main/NOTEBOOKS/8_IRS_Sensitivities.ipynb\">\n",
    "    <img src=\"https://upload.wikimedia.org/wikipedia/commons/d/d0/Google_Colaboratory_SVG_Logo.svg\" width=\"30\" alt=\"Google Colab\">\n",
    "</a> to open this notebook in Google Colab.\n"
   ]
  },
  {
   "cell_type": "markdown",
   "metadata": {},
   "source": [
    "In this exercise, you are going to bootstrap a zero coupon curve from par swap rates. With this curve and a given volatility, you are going to price a swaption using the Bachelier formula. Then, you are going to compute, with the help of AD, the sensitivities of the swaption with respect to zero coupon rates. Then, you will transform these to sensitivities to par swap rates.\n",
    "\n",
    "## Import main libraries:"
   ]
  },
  {
   "cell_type": "code",
   "execution_count": null,
   "metadata": {},
   "outputs": [],
   "source": [
    "import numpy as np\n",
    "import matplotlib.pyplot as plt\n",
    "import torch\n",
    "import pandas as pd\n",
    "from scipy.optimize import fsolve\n"
   ]
  },
  {
   "cell_type": "markdown",
   "metadata": {},
   "source": [
    "## Import the following libraries from the repository:"
   ]
  },
  {
   "cell_type": "code",
   "execution_count": null,
   "metadata": {},
   "outputs": [],
   "source": [
    "import sys\n",
    "sys.path.append('../CODE')  # Adjust the path as necessary"
   ]
  },
  {
   "cell_type": "code",
   "execution_count": null,
   "metadata": {},
   "outputs": [],
   "source": [
    "import pytorch_spline\n",
    "import pytorch_option_formulas\n",
    "import pytorch_ir_curve"
   ]
  },
  {
   "cell_type": "markdown",
   "metadata": {},
   "source": [
    "## Load the swap data\n",
    "\n",
    "In '../DATA/IR_Swap.csv', you have par swap rates for different maturities:"
   ]
  },
  {
   "cell_type": "code",
   "execution_count": null,
   "metadata": {},
   "outputs": [],
   "source": [
    "swap_rates = pd.read_csv('../DATA/IR_Swap.csv')\n",
    "\n",
    "swap_rates['Rate'] /= 100\n",
    "\n",
    "plt.plot(swap_rates['Mat (yrs)'], swap_rates['Rate'], '.')\n",
    "plt.ylim((0))"
   ]
  },
  {
   "cell_type": "markdown",
   "metadata": {},
   "source": [
    "## Explore Pytorch spline function\n",
    "\n",
    "In pytorch_spline.py module, you have a Pythorch implementation of a Pytorch spline function. Let us see how it works:"
   ]
  },
  {
   "cell_type": "code",
   "execution_count": null,
   "metadata": {},
   "outputs": [],
   "source": [
    "# We generate a discrete representation of the sin curve with numpy.\n",
    "x = np.linspace(0,2*np.pi, 6)\n",
    "y = np.sin(x)\n",
    "\n",
    "# We generate Pytorch tensors from the numpy arrays.\n",
    "x = torch.tensor(x, requires_grad=False) # We do not want to compute derivatives with respect to these.\n",
    "y = torch.tensor(y, requires_grad=True) # We want to compute derivatives with respect to these.\n",
    "\n",
    "# We generate a populated Pytorch tensor in the x dimension.\n",
    "x_grid = torch.linspace(0,2*np.pi, 100,requires_grad=False) # We do not want to compute derivatives with respect to these.\n",
    "\n",
    "# To initialize the spline, we just have to instanciate it with the data points.\n",
    "spline = pytorch_spline.NaturalCubicSpline_Torch(x,y)\n",
    "\n",
    "# We compute the spline interpolation for the populated grid.\n",
    "with torch.no_grad():\n",
    "    y_grid = spline.evaluate_spline(x_grid)\n",
    "\n",
    "# We plot the spline interpolation for the populated grid together with the discrete data points used to build the spline.\n",
    "plt.plot(x, y.detach(), 'o')\n",
    "plt.plot(x_grid, y_grid)\n",
    "\n",
    "# For a given x we compute the y interpolated by the spline function.\n",
    "x_0 = torch.tensor(5.3, requires_grad=False)\n",
    "y_0 = spline.evaluate_spline(x_0)\n",
    "\n",
    "# We compute the derivative of y_0 with respect to the spline inputs.\n",
    "y_0.backward()\n",
    "\n",
    "grad = y.grad\n",
    "\n",
    "# We plot the gradients.\n",
    "\n",
    "plt.bar(x = x, height= grad, width= 0.1, color = 'green')\n",
    "plt.plot(x_0, y_0.detach(), 'x')\n",
    "plt.axhline(linestyle = '-.')\n",
    "\n"
   ]
  },
  {
   "cell_type": "code",
   "execution_count": null,
   "metadata": {},
   "outputs": [],
   "source": [
    "time = torch.tensor(swap_rates['Mat (yrs)'].values, requires_grad=False)\n",
    "rates = torch.tensor(swap_rates['Rate'].values, requires_grad=False) \n",
    "\n",
    "curve = pytorch_ir_curve.IR_Curve(time, rates)\n",
    "\n",
    "time_grid = torch.linspace(0,50,100, requires_grad=False)\n",
    "\n",
    "zc_rates = curve.zero_coupon_rates(time_grid)\n",
    "\n",
    "plt.plot(time, rates, 'o')\n",
    "plt.plot(time_grid, zc_rates)\n",
    "plt.ylim(0.0)\n",
    "\n",
    "\n"
   ]
  },
  {
   "cell_type": "code",
   "execution_count": null,
   "metadata": {},
   "outputs": [],
   "source": [
    "swap = pytorch_ir_curve.IR_Swap(0,5,1)\n",
    "\n",
    "swap.calc_par_rate(curve).item()"
   ]
  },
  {
   "cell_type": "code",
   "execution_count": null,
   "metadata": {},
   "outputs": [],
   "source": [
    "fitter = CurveFitter(swap_rates['Mat (yrs)'].values, swap_rates['Rate'].values, 1.0)\n",
    "\n",
    "zc_rates = fitter.fit()\n",
    "\n",
    "curve = pytorch_ir_curve.IR_Curve(torch.tensor(swap_rates['Mat (yrs)'].values), torch.tensor(zc_rates))"
   ]
  },
  {
   "cell_type": "code",
   "execution_count": null,
   "metadata": {},
   "outputs": [],
   "source": [
    "time_grid = torch.linspace(0,50,100, requires_grad=False)\n",
    "\n",
    "zc_rates_grid = curve.zero_coupon_rates(time_grid)\n",
    "\n",
    "plt.plot(swap_rates['Mat (yrs)'], swap_rates['Rate'], 'o')\n",
    "plt.plot(time_grid, zc_rates)\n"
   ]
  },
  {
   "cell_type": "code",
   "execution_count": null,
   "metadata": {},
   "outputs": [],
   "source": [
    "@write the bachelier formula in pytorch\n"
   ]
  }
 ],
 "metadata": {
  "kernelspec": {
   "display_name": "definitive",
   "language": "python",
   "name": "python3"
  },
  "language_info": {
   "codemirror_mode": {
    "name": "ipython",
    "version": 3
   },
   "file_extension": ".py",
   "mimetype": "text/x-python",
   "name": "python",
   "nbconvert_exporter": "python",
   "pygments_lexer": "ipython3",
   "version": "3.10.13"
  }
 },
 "nbformat": 4,
 "nbformat_minor": 2
}
