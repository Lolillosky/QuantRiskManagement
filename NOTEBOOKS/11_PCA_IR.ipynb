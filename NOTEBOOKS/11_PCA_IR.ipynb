{
 "cells": [
  {
   "cell_type": "markdown",
   "metadata": {},
   "source": [
    "# Quantitative Risk Management\n",
    "\n",
    "Click <a href=\"https://colab.research.google.com/github/Lolillosky/QuantRiskManagement/blob/main/NOTEBOOKS/11_PCA_IR.ipynb\">\n",
    "    <img src=\"https://upload.wikimedia.org/wikipedia/commons/d/d0/Google_Colaboratory_SVG_Logo.svg\" width=\"30\" alt=\"Google Colab\">\n",
    "</a> to open this notebook in Google Colab.\n"
   ]
  },
  {
   "cell_type": "markdown",
   "metadata": {},
   "source": [
    "In this exercise, you are going to perform principal component analysis to the Euro Swap Curve.\n",
    "\n",
    "## Import main libraries:"
   ]
  },
  {
   "cell_type": "code",
   "execution_count": null,
   "metadata": {},
   "outputs": [],
   "source": [
    "import pandas as pd\n",
    "import matplotlib.pyplot as plt\n",
    "import seaborn as sns\n",
    "import numpy as np\n",
    "import sklearn\n",
    "from IPython.display import clear_output"
   ]
  },
  {
   "cell_type": "markdown",
   "metadata": {},
   "source": [
    "## Import Libraries from Github Repository "
   ]
  },
  {
   "cell_type": "code",
   "execution_count": 21,
   "metadata": {},
   "outputs": [],
   "source": [
    "import sys\n",
    "#sys.path.append('../CODE')  # Adjust the path as necessary\n",
    "\n",
    "\n",
    "from IPython.display import clear_output\n",
    "\n",
    "!rm -r {'QuantRiskManagement'}\n",
    "\n",
    "!git clone https://github.com/Lolillosky/QuantRiskManagement.git\n",
    "\n",
    "import sys\n",
    "sys.modules.pop\n",
    "sys.path.insert(0,'QuantRiskManagement/CODE')\n",
    "\n",
    "clear_output()\n"
   ]
  },
  {
   "cell_type": "code",
   "execution_count": null,
   "metadata": {},
   "outputs": [],
   "source": [
    "PATH_DATA = '../DATA/'\n",
    "#PATH_DATA = '/content/QuantRiskManagement/DATA/'\n",
    "\n",
    "PATH_HTML = '../docs/'\n",
    "PATH_FIGS = '../FIGS/'\n"
   ]
  },
  {
   "cell_type": "markdown",
   "metadata": {},
   "source": [
    "## Parse historical swap data:"
   ]
  },
  {
   "cell_type": "code",
   "execution_count": null,
   "metadata": {},
   "outputs": [],
   "source": [
    "swap_rates = pd.read_csv(PATH_DATA + 'IRS_History.csv', index_col=0, parse_dates=True, date_format='%d/%m/%Y')\n",
    "\n",
    "swap_rates /= 100\n",
    "\n",
    "swap_rates = swap_rates.loc['2020':]\n",
    "\n",
    "matutities = [float(x) for x in swap_rates.columns]\n",
    "\n",
    "swap_rates.head()\n"
   ]
  },
  {
   "cell_type": "markdown",
   "metadata": {},
   "source": [
    "Let's explore how data looks like:"
   ]
  },
  {
   "cell_type": "code",
   "execution_count": null,
   "metadata": {},
   "outputs": [],
   "source": [
    "import plotly.graph_objects as go\n",
    "\n",
    "\n",
    "fig = go.Figure(data=[go.Surface(x=swap_rates.columns,y= swap_rates.index,z=swap_rates.values)])\n",
    "\n",
    "fig.update_layout(\n",
    "    scene=dict(\n",
    "        xaxis_title='Matutities',  \n",
    "        yaxis_title='Dates', \n",
    "        zaxis_title='Swap Rates'))\n",
    "\n",
    "#fig.write_html(PATH_HTML + 'swap_rates.html')\n",
    "\n",
    "fig.show()\n"
   ]
  },
  {
   "cell_type": "code",
   "execution_count": null,
   "metadata": {},
   "outputs": [],
   "source": [
    "from matplotlib.animation import FuncAnimation\n",
    "from IPython.display import HTML\n",
    "import matplotlib as mpl\n",
    "mpl.rcParams['animation.embed_limit'] = 2**128\n",
    "\n",
    "f, ax = plt.subplots(1)\n",
    "\n",
    "series, = ax.plot([], '-o', markersize=3)\n",
    "\n",
    "num_frames = len(swap_rates)\n",
    "\n",
    "\n",
    "ax.set_xlim(0,matutities[-1])\n",
    "ax.set_ylim(swap_rates.min().min(), swap_rates.max().max())\n",
    "\n",
    "def animate(k):\n",
    "\n",
    "    series.set_data(matutities,swap_rates.iloc[k])\n",
    "    \n",
    "    ax.set_title(swap_rates.index[k].strftime('%d/%m/%Y'))\n",
    "\n",
    "\n",
    "\n",
    "ani = FuncAnimation(f, animate, frames=num_frames, interval = 20)\n",
    "\n",
    "plt.show()"
   ]
  },
  {
   "cell_type": "code",
   "execution_count": null,
   "metadata": {},
   "outputs": [],
   "source": [
    "html_str = ani.to_jshtml()\n",
    "\n",
    "# with open(PATH_HTML + 'Film.html', 'w') as f:\n",
    "#    f.write(html_str)\n",
    "\n",
    "HTML(html_str)\n"
   ]
  },
  {
   "cell_type": "markdown",
   "metadata": {},
   "source": [
    "Swap rates of different maturities seem to be correlated. Let's compute the correlation matrix of daily increments:"
   ]
  },
  {
   "cell_type": "code",
   "execution_count": null,
   "metadata": {},
   "outputs": [],
   "source": [
    "swap_rates_inc = swap_rates.diff().dropna()\n",
    "\n",
    "corr_swap = swap_rates_inc.corr()\n",
    "\n"
   ]
  },
  {
   "cell_type": "code",
   "execution_count": null,
   "metadata": {},
   "outputs": [],
   "source": [
    "plt.figure(figsize=(10, 8))\n",
    "\n",
    "sns.heatmap(corr_swap, annot=False, fmt=\".2f\", cmap='coolwarm', cbar=True, square=True)\n",
    "\n",
    "#plt.savefig(PATH_FIGS + 'correlation_matrix.pdf', dpi=300, bbox_inches='tight')"
   ]
  },
  {
   "cell_type": "markdown",
   "metadata": {},
   "source": [
    "Swap rate increments seem to be highly correlated. Correlation increases for closer tenors.\n",
    "\n",
    "Let us run a PCA on swap rate increments. In order to do so, we will use a Scikit-Learn pipeline with 2 steps: \n",
    "\n",
    "* A scaler that normalizes the data (substracting mean and dividing by standard deviation of each risk factor).\n",
    "* A PCA model."
   ]
  },
  {
   "cell_type": "code",
   "execution_count": null,
   "metadata": {},
   "outputs": [],
   "source": [
    "# We import the necessary tools\n",
    "from sklearn.decomposition import PCA # PCA analysis\n",
    "from sklearn.pipeline import Pipeline # Pipeline\n",
    "from sklearn.preprocessing import StandardScaler # Scaler\n",
    "\n",
    "# We define a pipeline\n",
    "PCA_pipeline = Pipeline([('Scaler', StandardScaler()), ('PCA', PCA())])\n",
    "\n",
    "# We fit the PCA model\n",
    "PCA_pipeline.fit(swap_rates_inc);\n"
   ]
  },
  {
   "cell_type": "markdown",
   "metadata": {},
   "source": [
    "Let us explore the value of the eigenvalues and eigenvectors."
   ]
  },
  {
   "cell_type": "code",
   "execution_count": null,
   "metadata": {},
   "outputs": [],
   "source": [
    "# To explore the model results we access the PCA step\n",
    "# of the pipeline model\n",
    "PCA_model = PCA_pipeline.named_steps['PCA']\n",
    "\n",
    "f, ax = plt.subplots(3,1)\n",
    "\n",
    "# We plot the eigenvalues\n",
    "ax[0].plot(matutities, PCA_model.explained_variance_, 'o-')\n",
    "ax[0].set_title('Eigenvalues')\n",
    "\n",
    "# We plot the cummulative sun of the eigenvalues as \n",
    "# a percentage over the sum of them\n",
    "ax[1].plot(matutities, np.cumsum(PCA_model.explained_variance_)/np.sum(PCA_model.explained_variance_), 'o-')\n",
    "ax[1].set_title('Cum Eigenvalues variance %')\n",
    "\n",
    "ax[2].plot(matutities, PCA_model.components_[0], 'o-', label = '1st eigenvector')\n",
    "ax[2].plot(matutities, PCA_model.components_[1], 'o-', label = '2st eigenvector')\n",
    "ax[2].plot(matutities, PCA_model.components_[2], 'o-', label = '3rd eigenvector')\n",
    "\n",
    "ax[2].legend()\n",
    "\n",
    "ax[2].set_title('Ppal components shape')\n",
    "\n",
    "ax[2].axhline(0,color = 'grey', linestyle = '--')\n",
    "f.set_size_inches(5,12)"
   ]
  },
  {
   "cell_type": "markdown",
   "metadata": {},
   "source": [
    "Notice that the eigenvalues are variances of independent variables. To that extend, their cummulative sum has some meaning. Notive that 3 principal components accumulate more than 98% of the variance.\n",
    "\n",
    "Also notice that the shapes of the eigenvectors also have some meanings:\n",
    "\n",
    "* The first principal component represents a roughly parallel movement.\n",
    "* The second principal component represents a movement where short term and long term maturities are shocked with opposite sings (steepening / flattening) or the IR curve.\n",
    "* The third principal component represents shocks where the intermediate part of the curve moves in opposite direction to the short and long ends."
   ]
  },
  {
   "cell_type": "markdown",
   "metadata": {},
   "source": [
    "The reduction allows us to represent curve movements in lower dimensions."
   ]
  },
  {
   "cell_type": "code",
   "execution_count": null,
   "metadata": {},
   "outputs": [],
   "source": [
    "dates_good_format = [d.strftime('%d, %b %Y') for d in swap_rates_inc.index]\n",
    "\n",
    "pca_realization = PCA_pipeline.transform(swap_rates_inc)\n",
    "\n",
    "fig = go.Figure(data=go.Scatter(x=pca_realization[:,0],\n",
    "                                y=pca_realization[:,1],\n",
    "                                mode='markers',\n",
    "                                #marker_color=data['Population'],\n",
    "                                text=dates_good_format)) # hover text goes here\n",
    "\n",
    "fig.update_layout(title='IR PCA')\n",
    "fig.show()"
   ]
  },
  {
   "cell_type": "code",
   "execution_count": null,
   "metadata": {},
   "outputs": [],
   "source": [
    "window = 260\n",
    "\n",
    "p_comp_len = len(swap_rates_inc) - window\n",
    "\n",
    "p_comp1 = pd.DataFrame(data = np.zeros((p_comp_len, swap_rates_inc.shape[1])), \\\n",
    "                      index = swap_rates_inc.index[window:])\n",
    "\n",
    "p_comp2 = pd.DataFrame(data = np.zeros((p_comp_len, swap_rates_inc.shape[1])), \\\n",
    "                      index = swap_rates_inc.index[window:])\n",
    "\n",
    "p_comp3 = pd.DataFrame(data = np.zeros((p_comp_len, swap_rates_inc.shape[1])), \\\n",
    "                      index = swap_rates_inc.index[window:])\n",
    "\n",
    "\n",
    "for i in range(window, len(swap_rates_inc)):\n",
    "\n",
    "  PCA_pipeline.fit(swap_rates_inc.iloc[i-window:i])\n",
    "\n",
    "  c1 = PCA_pipeline.named_steps['PCA'].components_[0]\n",
    "  c2 = PCA_pipeline.named_steps['PCA'].components_[1]\n",
    "  c3 = PCA_pipeline.named_steps['PCA'].components_[2]\n",
    "\n",
    "  if c1[0] <0:\n",
    "    c1*=-1\n",
    "  if c2[0] <0:\n",
    "    c2*=-1\n",
    "  if c3[0] <0:\n",
    "    c3*=-1\n",
    "\n",
    "  p_comp1.iloc[i-window] = c1\n",
    "  p_comp2.iloc[i-window] = c2\n",
    "  p_comp3.iloc[i-window] = c3\n",
    "\n",
    "  if (i-window)%300 == 0:\n",
    "    clear_output()\n",
    "    print(str(i-window) + '/' + str(len(swap_rates_inc)-window))\n",
    "\n"
   ]
  },
  {
   "cell_type": "markdown",
   "metadata": {},
   "source": [
    "The eigenvectors shape is quite stable throughout time."
   ]
  },
  {
   "cell_type": "code",
   "execution_count": null,
   "metadata": {},
   "outputs": [],
   "source": [
    "def plot_curves_date_animate(date, curves, ax, series, min_maturity, max_maturity,\n",
    "                            min_yield, max_yield, title):\n",
    "\n",
    "  count = 0\n",
    "  \n",
    "  for k, v in curves.items():\n",
    "  \n",
    "    x = np.array(v[1])\n",
    "      \n",
    "    y = v[0].loc[date].values[np.logical_and(x <= max_maturity, x >= min_maturity)]\n",
    "    \n",
    "    x = x[np.logical_and(x <= max_maturity, x >= min_maturity)]\n",
    "  \n",
    "    series[count].set_data(x, y)\n",
    "    \n",
    "    count+=1\n",
    "    \n",
    "  ax.set_ylim(min_yield,max_yield)\n",
    "  ax.set_xlim(min_maturity,max_maturity)\n",
    "    \n",
    "  ax.set_title(date.strftime(title + '%d, %b %Y'))\n",
    "    \n",
    "  ax.legend(loc='upper left')\n",
    "\n",
    "def swap_curve_animation(curves, date_range, fps, min_maturity, max_maturity, \n",
    "                         min_yield, max_yield, title):\n",
    "  \n",
    "  f, ax = plt.subplots(1)\n",
    "\n",
    "  series = []\n",
    "\n",
    "  for k, v in curves.items():\n",
    "\n",
    "    serie, = ax.plot([], '.-', label = k)\n",
    "\n",
    "    series += [serie]\n",
    "\n",
    "  def animate(k):\n",
    "\n",
    "      date = list(curves.values())[0][0].index[k]\n",
    "\n",
    "      plot_curves_date_animate(date, curves, ax, series, min_maturity, max_maturity,\n",
    "                              min_yield, max_yield, title)\n",
    "\n",
    "\n",
    "\n",
    "  ani = FuncAnimation(f, animate, frames=date_range, interval = fps)\n",
    "\n",
    "  plt.show()\n",
    "  \n",
    "  return ani  "
   ]
  },
  {
   "cell_type": "code",
   "execution_count": null,
   "metadata": {},
   "outputs": [],
   "source": [
    "curves = {'1st ppal comp' : (p_comp1, matutities),\n",
    "           '2nd ppal comp' : (p_comp2, matutities),\n",
    "           '3rd ppal comp' : (p_comp3, matutities)}\n",
    "\n",
    "ani = swap_curve_animation(curves, range(len(p_comp1)), fps = 60, min_maturity = 0, max_maturity = 30, \n",
    "                          min_yield = -1, max_yield = 1, title = '250 rolling PCA as of ')\n",
    " \n",
    "\n",
    "plt.show()"
   ]
  },
  {
   "cell_type": "code",
   "execution_count": null,
   "metadata": {},
   "outputs": [],
   "source": [
    "html_str = ani.to_jshtml()\n",
    "\n",
    "#with open(PATH_HTML + 'Film_PCA.html', 'w') as f:\n",
    "#    f.write(html_str)\n",
    "\n",
    "HTML(html_str)\n"
   ]
  },
  {
   "cell_type": "code",
   "execution_count": null,
   "metadata": {},
   "outputs": [],
   "source": []
  }
 ],
 "metadata": {
  "kernelspec": {
   "display_name": "definitive",
   "language": "python",
   "name": "python3"
  },
  "language_info": {
   "codemirror_mode": {
    "name": "ipython",
    "version": 3
   },
   "file_extension": ".py",
   "mimetype": "text/x-python",
   "name": "python",
   "nbconvert_exporter": "python",
   "pygments_lexer": "ipython3",
   "version": "3.11.8"
  }
 },
 "nbformat": 4,
 "nbformat_minor": 2
}
