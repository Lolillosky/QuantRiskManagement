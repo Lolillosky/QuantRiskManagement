{
 "cells": [
  {
   "cell_type": "markdown",
   "metadata": {},
   "source": [
    "# Quantitative Risk Management\n",
    "\n",
    "Click <a href=\"https://colab.research.google.com/github/Lolillosky/QuantRiskManagement/blob/main/NOTEBOOKS/11_PCA_IR.ipynb\">\n",
    "    <img src=\"https://upload.wikimedia.org/wikipedia/commons/d/d0/Google_Colaboratory_SVG_Logo.svg\" width=\"30\" alt=\"Google Colab\">\n",
    "</a> to open this notebook in Google Colab.\n"
   ]
  },
  {
   "cell_type": "markdown",
   "metadata": {},
   "source": [
    "In this exercise, you are going to perform principal component analysis to the Euro Swap Curve.\n",
    "\n",
    "## Import main libraries:"
   ]
  },
  {
   "cell_type": "code",
   "execution_count": null,
   "metadata": {},
   "outputs": [],
   "source": [
    "import pandas as pd\n",
    "import matplotlib.pyplot as plt"
   ]
  },
  {
   "cell_type": "code",
   "execution_count": null,
   "metadata": {},
   "outputs": [],
   "source": [
    "PATH_DATA = '../DATA/'\n",
    "#PATH_DATA = '/content/QuantRiskManagement/DATA/'\n",
    "\n",
    "PATH_HTML = '../docs/'\n"
   ]
  },
  {
   "cell_type": "code",
   "execution_count": null,
   "metadata": {},
   "outputs": [],
   "source": [
    "swap_rates = pd.read_csv(PATH_DATA + 'IRS_History.csv', index_col=0, parse_dates=True, date_format='%d/%m/%Y')\n",
    "\n",
    "swap_rates /= 100\n",
    "\n",
    "swap_rates = swap_rates.loc['2020':]\n",
    "\n",
    "swap_rates.head()\n",
    "\n",
    "matutities = [float(x) for x in swap_rates.columns]\n",
    "\n"
   ]
  },
  {
   "cell_type": "code",
   "execution_count": null,
   "metadata": {},
   "outputs": [],
   "source": [
    "import plotly.graph_objects as go\n",
    "\n",
    "\n",
    "fig = go.Figure(data=[go.Surface(x=swap_rates.columns,y= swap_rates.index,z=swap_rates.values)])\n",
    "\n",
    "fig.write_html(PATH_HTML + 'swap_rates.html')\n",
    "\n",
    "fig.show()\n"
   ]
  },
  {
   "cell_type": "code",
   "execution_count": null,
   "metadata": {},
   "outputs": [],
   "source": [
    "from matplotlib.animation import FuncAnimation\n",
    "from IPython.display import HTML\n",
    "import matplotlib as mpl\n",
    "mpl.rcParams['animation.embed_limit'] = 2**128\n",
    "\n",
    "f, ax = plt.subplots(1)\n",
    "\n",
    "series, = ax.plot([], '-o', markersize=3)\n",
    "\n",
    "num_frames = len(swap_rates)\n",
    "\n",
    "\n",
    "ax.set_xlim(0,matutities[-1])\n",
    "ax.set_ylim(swap_rates.min().min(), swap_rates.max().max())\n",
    "\n",
    "def animate(k):\n",
    "\n",
    "    series.set_data(matutities,swap_rates.iloc[k])\n",
    "    \n",
    "    ax.set_title(swap_rates.index[k].strftime('%d/%m/%Y'))\n",
    "\n",
    "\n",
    "\n",
    "ani = FuncAnimation(f, animate, frames=num_frames, interval = 20)\n",
    "\n",
    "plt.show()"
   ]
  },
  {
   "cell_type": "code",
   "execution_count": null,
   "metadata": {},
   "outputs": [],
   "source": [
    "html_str = ani.to_jshtml()\n",
    "\n",
    "with open(PATH_HTML + 'Film.html', 'w') as f:\n",
    "    f.write(html_str)\n",
    "\n",
    "HTML(html_str)\n"
   ]
  },
  {
   "cell_type": "code",
   "execution_count": null,
   "metadata": {},
   "outputs": [],
   "source": []
  }
 ],
 "metadata": {
  "kernelspec": {
   "display_name": "definitive",
   "language": "python",
   "name": "python3"
  },
  "language_info": {
   "codemirror_mode": {
    "name": "ipython",
    "version": 3
   },
   "file_extension": ".py",
   "mimetype": "text/x-python",
   "name": "python",
   "nbconvert_exporter": "python",
   "pygments_lexer": "ipython3",
   "version": "3.10.13"
  }
 },
 "nbformat": 4,
 "nbformat_minor": 2
}
