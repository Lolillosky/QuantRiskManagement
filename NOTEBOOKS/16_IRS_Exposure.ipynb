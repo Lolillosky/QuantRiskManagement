{
 "cells": [
  {
   "cell_type": "markdown",
   "metadata": {},
   "source": [
    "# Quantitative Risk Management\n",
    "\n",
    "Click <a href=\"https://colab.research.google.com/github/Lolillosky/QuantRiskManagement/blob/main/NOTEBOOKS/16_IRS_Exposure.ipynb\">\n",
    "    <img src=\"https://upload.wikimedia.org/wikipedia/commons/d/d0/Google_Colaboratory_SVG_Logo.svg\" width=\"30\" alt=\"Google Colab\">\n",
    "</a> to open this notebook in Google Colab.\n",
    "\n"
   ]
  },
  {
   "cell_type": "markdown",
   "metadata": {},
   "source": [
    "In this exercise, you are going to compute credit exposures of a portfolio of IRS.\n",
    "\n",
    "## Import main libraries:"
   ]
  },
  {
   "cell_type": "code",
   "execution_count": null,
   "metadata": {},
   "outputs": [],
   "source": [
    "import numpy as np\n",
    "import matplotlib.pyplot as plt\n",
    "import pandas as pd\n"
   ]
  },
  {
   "cell_type": "markdown",
   "metadata": {},
   "source": [
    "## Import the following libraries from the repository:"
   ]
  },
  {
   "cell_type": "code",
   "execution_count": null,
   "metadata": {},
   "outputs": [],
   "source": [
    "import sys\n",
    "#sys.path.append('../CODE')  # Adjust the path as necessary\n",
    "\n",
    "\n",
    "from IPython.display import clear_output\n",
    "\n",
    "\n",
    "!rm -r {'QuantRiskManagement'}\n",
    "\n",
    "!git clone https://github.com/Lolillosky/QuantRiskManagement.git\n",
    "\n",
    "import sys\n",
    "sys.modules.pop\n",
    "sys.path.insert(0,'QuantRiskManagement/CODE')\n",
    "\n",
    "clear_output()\n"
   ]
  },
  {
   "cell_type": "code",
   "execution_count": null,
   "metadata": {},
   "outputs": [],
   "source": [
    "import irs_exposure"
   ]
  },
  {
   "cell_type": "code",
   "execution_count": null,
   "metadata": {},
   "outputs": [],
   "source": [
    "num_sims = 10000\n",
    "\n",
    "max_maturity = 10\n",
    "\n",
    "num_step_year = 4\n",
    "\n",
    "time_steps = np.linspace(0,max_maturity, num_step_year*max_maturity+1)\n",
    "\n",
    "rates = np.zeros((num_sims, len(time_steps)))\n",
    "NPVs = np.zeros((num_sims, len(time_steps)))\n",
    "\n",
    "\n",
    "kappa = 0.1\n",
    "sigma = 0.005\n",
    "rate_0 = 0.01\n",
    "\n",
    "HW = irs_exposure.HWModel(irs_exposure.FlatIRCurve(rate_0), kappa, sigma)\n",
    "HWWrapp = irs_exposure.HWCurveWrapper(HW)\n",
    "\n",
    "def_intensity = 0.01\n",
    "recovery = 0.4\n",
    "\n",
    "surv_prob = irs_exposure.SurvCurve(def_intensity).SurvProb(0,time_steps)\n",
    "def_prob_time_step = surv_prob[0:-1]-surv_prob[1:]\n",
    "\n",
    "rates[:,0] =  HW.get_rate(0,0)\n",
    "\n",
    "irs_portfolio = irs_exposure.IRS_Portfolio([[1,irs_exposure.IRS(10,1,0.01)]])\n",
    "\n",
    "NPVs[:,0] = irs_portfolio.get_NPV(0,HWWrapp)\n",
    "\n",
    "curr_acc = np.zeros((num_sims, len(time_steps)))\n",
    "\n",
    "curr_acc[:,0] = 1\n",
    "\n",
    "for i in range(0, num_sims):\n",
    "\n",
    "  x = 0\n",
    "  HWWrapp.x = x\n",
    "\n",
    "  curr_acc[:,1] = 1 / HWWrapp.DiscountFactor(0,time_steps[1])\n",
    "\n",
    "  for j in range(1,num_step_year*max_maturity+1):\n",
    "\n",
    "    x = HW.SimulProcess(time_steps[j-1], time_steps[j], x)\n",
    "\n",
    "    rates[i,j] = HW.get_rate(time_steps[j], x)\n",
    "\n",
    "    HWWrapp.x = x\n",
    "\n",
    "    if j < num_step_year*max_maturity:\n",
    "      curr_acc[i,j+1] = curr_acc[i,j] / HWWrapp.DiscountFactor(time_steps[j],time_steps[j+1])\n",
    "\n",
    "\n",
    "    NPVs[i,j] = irs_portfolio.get_NPV(time_steps[j], HWWrapp)\n",
    "\n",
    "mat = np.maximum(NPVs / curr_acc,0)\n",
    "mat = (mat[:,0:-1]+mat[:,1:])/2\n",
    "\n",
    "mat = mat*def_prob_time_step*(1-recovery)\n",
    "\n",
    "interg = np.sum(mat, axis = 1)\n",
    "\n",
    "test = np.cumsum(mat, axis = 1)\n",
    "\n",
    "cva = np.mean(interg)\n",
    "\n",
    "print('CVA: ' + str(cva))"
   ]
  },
  {
   "cell_type": "code",
   "execution_count": null,
   "metadata": {},
   "outputs": [],
   "source": [
    "# plt.plot(time_steps, NPVs.T, 'grey', alpha = 0.1);\n",
    "\n",
    "plt.plot(time_steps, np.mean(np.maximum(NPVs,0), axis = 0), 'blue', label = 'EPE');\n",
    "plt.plot(time_steps, np.percentile(np.maximum(NPVs,0), axis = 0,q = 95), 'red', label = '95% EPE')\n",
    "\n",
    "plt.legend();\n",
    "\n",
    "plt.savefig('IRS_EPE_PFE.pdf')\n"
   ]
  },
  {
   "cell_type": "code",
   "execution_count": null,
   "metadata": {},
   "outputs": [],
   "source": []
  }
 ],
 "metadata": {
  "kernelspec": {
   "display_name": "Python 3",
   "language": "python",
   "name": "python3"
  },
  "language_info": {
   "codemirror_mode": {
    "name": "ipython",
    "version": 3
   },
   "file_extension": ".py",
   "mimetype": "text/x-python",
   "name": "python",
   "nbconvert_exporter": "python",
   "pygments_lexer": "ipython3",
   "version": "3.11.8"
  }
 },
 "nbformat": 4,
 "nbformat_minor": 2
}
