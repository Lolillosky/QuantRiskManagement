{
 "cells": [
  {
   "cell_type": "markdown",
   "metadata": {},
   "source": [
    "# Quantitative Risk Management"
   ]
  },
  {
   "cell_type": "markdown",
   "metadata": {},
   "source": [
    "I hace created a repository in [Here](https://github.com/Lolillosky/QuantRiskManagement) where some functions are included.\n",
    "\n",
    "In order to import the repository from Google Colab, you should do the following: "
   ]
  },
  {
   "cell_type": "code",
   "execution_count": null,
   "metadata": {},
   "outputs": [],
   "source": [
    "!rm -r {'QuantRiskManagement'}\n",
    "\n",
    "!git clone https://github.com/Lolillosky/QuantRiskManagement.git\n",
    "\n",
    "import sys\n",
    "sys.modules.pop\n",
    "sys.path.insert(0,'QuantRiskManagement/CODE')\n",
    "\n",
    "clear_output()"
   ]
  },
  {
   "cell_type": "markdown",
   "metadata": {},
   "source": [
    "To import a module, for example Option_formulas.py, simply do the following"
   ]
  },
  {
   "cell_type": "code",
   "execution_count": null,
   "metadata": {},
   "outputs": [],
   "source": [
    "import Option_formulas"
   ]
  }
 ],
 "metadata": {
  "kernelspec": {
   "display_name": "clone",
   "language": "python",
   "name": "python3"
  },
  "language_info": {
   "codemirror_mode": {
    "name": "ipython",
    "version": 3
   },
   "file_extension": ".py",
   "mimetype": "text/x-python",
   "name": "python",
   "nbconvert_exporter": "python",
   "pygments_lexer": "ipython3",
   "version": "3.7.15"
  }
 },
 "nbformat": 4,
 "nbformat_minor": 2
}
