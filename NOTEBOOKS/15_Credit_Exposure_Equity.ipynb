{
 "cells": [
  {
   "cell_type": "markdown",
   "metadata": {},
   "source": [
    "# Quantitative Risk Management\n",
    "\n",
    "Click <a href=\"https://colab.research.google.com/github/Lolillosky/QuantRiskManagement/blob/main/NOTEBOOKS/15_Credit_Exposure_Equity.ipynb\">\n",
    "    <img src=\"https://upload.wikimedia.org/wikipedia/commons/d/d0/Google_Colaboratory_SVG_Logo.svg\" width=\"30\" alt=\"Google Colab\">\n",
    "</a> to open this notebook in Google Colab.\n",
    "\n",
    "\n",
    "\n"
   ]
  },
  {
   "cell_type": "markdown",
   "metadata": {},
   "source": [
    "In this exercise, you are going to calculate exposures of equity products.\n",
    "\n",
    "## Import main libraries:"
   ]
  },
  {
   "cell_type": "code",
   "execution_count": null,
   "metadata": {},
   "outputs": [],
   "source": [
    "import numpy as np\n",
    "import matplotlib.pyplot as plt\n",
    "import pandas as pd\n"
   ]
  },
  {
   "cell_type": "markdown",
   "metadata": {},
   "source": [
    "## Import libaries from the repository:"
   ]
  },
  {
   "cell_type": "code",
   "execution_count": null,
   "metadata": {},
   "outputs": [],
   "source": [
    "import sys\n",
    "#sys.path.append('../CODE')  # Adjust the path as necessary\n",
    "\n",
    "\n",
    "from IPython.display import clear_output\n",
    "\n",
    "\n",
    "!rm -r {'QuantRiskManagement'}\n",
    "\n",
    "!git clone https://github.com/Lolillosky/QuantRiskManagement.git\n",
    "\n",
    "import sys\n",
    "sys.modules.pop\n",
    "sys.path.insert(0,'QuantRiskManagement/CODE')\n",
    "\n",
    "clear_output()\n"
   ]
  },
  {
   "cell_type": "code",
   "execution_count": null,
   "metadata": {},
   "outputs": [],
   "source": [
    "import Option_formulas"
   ]
  },
  {
   "cell_type": "markdown",
   "metadata": {},
   "source": [
    "## Credit exposure of a standalone forward contract\n",
    "\n",
    "Data:\n",
    "\n",
    "* Spot: 10\n",
    "* Strike: 8\n",
    "* Risk free rate: 1%\n",
    "* Dividend yield: 0%\n",
    "* Volatility: 20%\n",
    "* Maturity: 5 years.\n",
    "\n",
    "\n",
    "\n"
   ]
  },
  {
   "cell_type": "code",
   "execution_count": null,
   "metadata": {},
   "outputs": [],
   "source": [
    "# Your code goes here\n",
    "S_0 = 10\n",
    "Strike = 8\n",
    "rfr = 0.01\n",
    "TTM = 5\n",
    "vol = 0.2\n",
    "\n",
    "num_sims = 1000\n",
    "num_time_steps = 100\n",
    "\n",
    "# Generate the stock price paths\n",
    "\n",
    "delta_t = TTM/num_time_steps\n",
    "\n",
    "time_grid = np.linspace(0, TTM, num_time_steps+1)\n",
    "S_t = np.zeros((num_sims, num_time_steps+1))\n",
    "\n",
    "S_t[:,0] = S_0\n",
    "\n",
    "S_t[:,1:] = np.exp((rfr - 0.5*vol**2)*delta_t + vol*np.sqrt(delta_t)*np.random.randn(num_sims, num_time_steps))\n",
    "\n",
    "S_t = S_t.cumprod(axis=1)\n",
    "\n",
    "# Calculate the payoff of the forward contract\n",
    "\n",
    "f_t = np.array([Option_formulas.forward_price(s, Strike, rfr, 0.0, TTM - t) for (s,t) in zip(S_t.T, time_grid)]).T\n",
    "\n",
    "plt.plot(time_grid, f_t.T, 'grey', alpha = 0.1);\n",
    "\n",
    "plt.plot(time_grid, np.maximum(f_t,0).mean(axis=0), 'blue');\n",
    "\n",
    "plt.plot(time_grid, np.percentile(np.maximum(f_t,0),95, axis = 0), 'red');\n",
    "\n"
   ]
  },
  {
   "cell_type": "markdown",
   "metadata": {},
   "source": [
    "## Credit exposure of a netting set\n",
    "\n",
    "* Spot A: 10\n",
    "* Spot B: 10\n",
    "* Risk free rate: 1%\n",
    "* Dividend yield: 0%\n",
    "* Volatility A: 20%\n",
    "* Volatility B: 10%\n",
    "* Correlation: 60%\n",
    "\n",
    "* Forward 1:\n",
    "\n",
    "   * Underlying: A\n",
    "\n",
    "   * Strike: 10\n",
    "\n",
    "   * Maturity: 5y\n",
    "\n",
    "   * Position: Long\n",
    "\n",
    "   * Notional: 1\n",
    "\n",
    "* Forward 2:\n",
    "\n",
    "   * Underlying: B\n",
    "\n",
    "   * Strike: 10\n",
    "\n",
    "   * Maturity: 10y\n",
    "\n",
    "   * Position: Long\n",
    "\n",
    "   * Notional: 1\n",
    "\n",
    "* Option:\n",
    "\n",
    "   * Underlying: B\n",
    "\n",
    "   * Strike: 12\n",
    "\n",
    "   * Type: Call\n",
    "\n",
    "   * Maturity: 8y\n",
    "\n",
    "   * Position: Short\n",
    "\n",
    "   * Notional: 0.5\n"
   ]
  },
  {
   "cell_type": "code",
   "execution_count": null,
   "metadata": {},
   "outputs": [],
   "source": [
    "# Your code goes here\n",
    "\n",
    "Spot = [10,10,8]\n",
    "Vols = [0.2, 0.15, 0.05]\n",
    "rho_1_2 = 0.8\n",
    "rho_1_3 = 0.6\n",
    "rho_2_3 = 0.4\n",
    "TTM_max = 10\n",
    "correl = np.array([[1, rho_1_2, rho_1_3], [rho_1_2, 1, rho_2_3], [rho_1_3, rho_2_3, 1]])\n",
    "chol = np.linalg.cholesky(correl)\n",
    "\n",
    "num_sims = 1000\n",
    "num_time_steps = 100\n",
    "\n",
    "delta_t = TTM_max/num_time_steps\n",
    "time_grid = np.linspace(0, TTM_max, num_time_steps+1)\n",
    "\n",
    "# Generate the stock price paths\n",
    "S_t = np.zeros((num_sims, num_time_steps+1, 3))\n",
    "\n",
    "S_t[:,0,:] = Spot\n",
    "\n",
    "Brownian = np.random.randn(num_sims, num_time_steps, 3)*np.sqrt(delta_t)\n",
    "\n",
    "Brownian_correl = Brownian @ chol.T\n",
    "\n",
    "S_t[:,1:,:] = np.exp((rfr - 0.5*np.array(Vols)**2)*delta_t + np.array(Vols)*Brownian_correl)\n",
    "\n",
    "S_t = S_t.cumprod(axis=1)\n",
    "\n",
    "f_1_t = np.array([Option_formulas.forward_price(s, 10.0, rfr, 0.0, 5.0 - t) if t <= 5.0 else np.zeros(num_sims) for (s,t) in zip(S_t[:,:,0].T, time_grid)]).T\n",
    "\n",
    "f_2_t = np.array([Option_formulas.forward_price(s, 10.0, rfr, 0.0, 10.0 - t) if t <= 10.0 else np.zeros(num_sims) for (s,t) in zip(S_t[:,:,1].T, time_grid)]).T\n",
    "\n",
    "c_t = np.array([Option_formulas.BlackScholes(s, 10.0, 8.0 - t,rfr, 0.0, Vols[1], True) if t <= 8.0 else np.zeros(num_sims) for (s,t) in zip(S_t[:,:,1].T, time_grid)]).T\n",
    "\n",
    "portfolio = f_1_t + f_2_t - 0.5*c_t\n",
    "\n",
    "\n",
    "#- 4*c_t\n"
   ]
  },
  {
   "cell_type": "code",
   "execution_count": null,
   "metadata": {},
   "outputs": [],
   "source": [
    "plt.plot(time_grid, portfolio.T, 'grey', alpha = 0.1);\n",
    "\n",
    "plt.plot(time_grid, np.percentile(np.maximum(portfolio,0),95, axis = 0), 'blue');"
   ]
  }
 ],
 "metadata": {
  "kernelspec": {
   "display_name": "definitive",
   "language": "python",
   "name": "python3"
  },
  "language_info": {
   "codemirror_mode": {
    "name": "ipython",
    "version": 3
   },
   "file_extension": ".py",
   "mimetype": "text/x-python",
   "name": "python",
   "nbconvert_exporter": "python",
   "pygments_lexer": "ipython3",
   "version": "3.10.13"
  }
 },
 "nbformat": 4,
 "nbformat_minor": 2
}
