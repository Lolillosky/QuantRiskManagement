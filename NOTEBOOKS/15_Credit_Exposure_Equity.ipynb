{
 "cells": [
  {
   "cell_type": "markdown",
   "metadata": {},
   "source": [
    "# Quantitative Risk Management\n",
    "\n",
    "Click <a href=\"https://colab.research.google.com/github/Lolillosky/QuantRiskManagement/blob/main/NOTEBOOKS/15_Credit_Exposure_Equity.ipynb\">\n",
    "    <img src=\"https://upload.wikimedia.org/wikipedia/commons/d/d0/Google_Colaboratory_SVG_Logo.svg\" width=\"30\" alt=\"Google Colab\">\n",
    "</a> to open this notebook in Google Colab.\n",
    "\n",
    "\n",
    "\n"
   ]
  },
  {
   "cell_type": "markdown",
   "metadata": {},
   "source": [
    "In this exercise, you are going to calculate exposures of equity products.\n",
    "\n",
    "## Import main libraries:"
   ]
  },
  {
   "cell_type": "code",
   "execution_count": null,
   "metadata": {},
   "outputs": [],
   "source": [
    "import numpy as np\n",
    "import matplotlib.pyplot as plt\n",
    "import pandas as pd\n"
   ]
  },
  {
   "cell_type": "markdown",
   "metadata": {},
   "source": [
    "## Import libaries from the repository:"
   ]
  },
  {
   "cell_type": "code",
   "execution_count": null,
   "metadata": {},
   "outputs": [],
   "source": [
    "import sys\n",
    "sys.path.append('../CODE')  # Adjust the path as necessary\n",
    "\n",
    "\n",
    "from IPython.display import clear_output\n",
    "\n",
    "'''\n",
    "!rm -r {'QuantRiskManagement'}\n",
    "\n",
    "!git clone https://github.com/Lolillosky/QuantRiskManagement.git\n",
    "\n",
    "import sys\n",
    "sys.modules.pop\n",
    "sys.path.insert(0,'QuantRiskManagement/CODE')\n",
    "'''\n",
    "clear_output()\n"
   ]
  },
  {
   "cell_type": "code",
   "execution_count": null,
   "metadata": {},
   "outputs": [],
   "source": [
    "import Option_formulas"
   ]
  },
  {
   "cell_type": "markdown",
   "metadata": {},
   "source": [
    "## Credit exposure of a standalone forward contract\n",
    "\n",
    "Data:\n",
    "\n",
    "* Spot: 10\n",
    "* Strike: 8\n",
    "* Risk free rate: 1%\n",
    "* Dividend yield: 0%\n",
    "* Volatility: 20%\n",
    "* Maturity: 5 years.\n",
    "\n",
    "\n",
    "\n"
   ]
  },
  {
   "cell_type": "code",
   "execution_count": null,
   "metadata": {},
   "outputs": [],
   "source": [
    "# Your code goes here\n",
    "\n"
   ]
  },
  {
   "cell_type": "markdown",
   "metadata": {},
   "source": [
    "## Credit exposure of a netting set\n",
    "\n",
    "* Spot A: 10\n",
    "* Spot B: 10\n",
    "* Risk free rate: 1%\n",
    "* Dividend yield: 0%\n",
    "* Volatility A: 20%\n",
    "* Volatility B: 10%\n",
    "* Correlation\n",
    "\n",
    "* Forward 1:\n",
    "\n",
    "   * Underlying: A\n",
    "\n",
    "   * Strike: 10\n",
    "\n",
    "   * Maturity: 5y\n",
    "\n",
    "   * Position: Long\n",
    "\n",
    "   * Notional: 1\n",
    "\n",
    "* Forward 2:\n",
    "\n",
    "   * Underlying: B\n",
    "\n",
    "   * Strike: 10\n",
    "\n",
    "   * Maturity: 10y\n",
    "\n",
    "   * Position: Short\n",
    "\n",
    "   * Notional: 1\n",
    "\n",
    "* Option:\n",
    "\n",
    "   * Underlying: B\n",
    "\n",
    "   * Strike: 12\n",
    "\n",
    "   * Type: Call\n",
    "\n",
    "   * Maturity: 8y\n",
    "\n",
    "   * Position: Short\n",
    "\n",
    "   * Notional: 1\n"
   ]
  },
  {
   "cell_type": "code",
   "execution_count": 62,
   "metadata": {},
   "outputs": [],
   "source": [
    "# Your code goes here\n"
   ]
  },
  {
   "cell_type": "code",
   "execution_count": null,
   "metadata": {},
   "outputs": [],
   "source": []
  }
 ],
 "metadata": {
  "kernelspec": {
   "display_name": "definitive",
   "language": "python",
   "name": "python3"
  },
  "language_info": {
   "codemirror_mode": {
    "name": "ipython",
    "version": 3
   },
   "file_extension": ".py",
   "mimetype": "text/x-python",
   "name": "python",
   "nbconvert_exporter": "python",
   "pygments_lexer": "ipython3",
   "version": "3.10.13"
  }
 },
 "nbformat": 4,
 "nbformat_minor": 2
}
