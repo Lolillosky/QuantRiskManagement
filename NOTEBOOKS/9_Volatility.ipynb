{
 "cells": [
  {
   "cell_type": "markdown",
   "metadata": {},
   "source": [
    "# Quantitative Risk Managemet"
   ]
  },
  {
   "cell_type": "markdown",
   "metadata": {},
   "source": [
    "## Volatility"
   ]
  },
  {
   "cell_type": "code",
   "execution_count": 1,
   "metadata": {},
   "outputs": [],
   "source": [
    "import numpy as np\n",
    "import matplotlib.pyplot as plt\n",
    "import pandas as pd"
   ]
  },
  {
   "cell_type": "code",
   "execution_count": 2,
   "metadata": {},
   "outputs": [],
   "source": [
    "import sys\n",
    "sys.path.append('../CODE')  # Adjust the path as necessary\n",
    "\n",
    "\n",
    "from IPython.display import clear_output\n",
    "'''\n",
    "!rm -r {'QuantRiskManagement'}\n",
    "\n",
    "!git clone https://github.com/Lolillosky/QuantRiskManagement.git\n",
    "\n",
    "import sys\n",
    "sys.modules.pop\n",
    "sys.path.insert(0,'QuantRiskManagement/CODE')\n",
    "'''\n",
    "clear_output()\n"
   ]
  },
  {
   "cell_type": "code",
   "execution_count": 34,
   "metadata": {},
   "outputs": [],
   "source": [
    "import Option_formulas\n",
    "import pytorch_option_formulas"
   ]
  },
  {
   "cell_type": "code",
   "execution_count": 4,
   "metadata": {},
   "outputs": [
    {
     "data": {
      "text/html": [
       "<div>\n",
       "<style scoped>\n",
       "    .dataframe tbody tr th:only-of-type {\n",
       "        vertical-align: middle;\n",
       "    }\n",
       "\n",
       "    .dataframe tbody tr th {\n",
       "        vertical-align: top;\n",
       "    }\n",
       "\n",
       "    .dataframe thead th {\n",
       "        text-align: right;\n",
       "    }\n",
       "</style>\n",
       "<table border=\"1\" class=\"dataframe\">\n",
       "  <thead>\n",
       "    <tr style=\"text-align: right;\">\n",
       "      <th></th>\n",
       "      <th>Spot A</th>\n",
       "      <th>Vol A</th>\n",
       "      <th>Spot B</th>\n",
       "      <th>Vol B</th>\n",
       "      <th>Spot C</th>\n",
       "      <th>Vol C</th>\n",
       "    </tr>\n",
       "    <tr>\n",
       "      <th>Dates</th>\n",
       "      <th></th>\n",
       "      <th></th>\n",
       "      <th></th>\n",
       "      <th></th>\n",
       "      <th></th>\n",
       "      <th></th>\n",
       "    </tr>\n",
       "  </thead>\n",
       "  <tbody>\n",
       "    <tr>\n",
       "      <th>2010-01-01</th>\n",
       "      <td>7.526</td>\n",
       "      <td>0.37458</td>\n",
       "      <td>125.0310</td>\n",
       "      <td>0.23275</td>\n",
       "      <td>41.67</td>\n",
       "      <td>0.35088</td>\n",
       "    </tr>\n",
       "    <tr>\n",
       "      <th>2010-01-04</th>\n",
       "      <td>7.643</td>\n",
       "      <td>0.37428</td>\n",
       "      <td>126.5115</td>\n",
       "      <td>0.23198</td>\n",
       "      <td>42.85</td>\n",
       "      <td>0.34045</td>\n",
       "    </tr>\n",
       "    <tr>\n",
       "      <th>2010-01-05</th>\n",
       "      <td>7.656</td>\n",
       "      <td>0.38004</td>\n",
       "      <td>124.9832</td>\n",
       "      <td>0.23318</td>\n",
       "      <td>43.68</td>\n",
       "      <td>0.33323</td>\n",
       "    </tr>\n",
       "    <tr>\n",
       "      <th>2010-01-06</th>\n",
       "      <td>7.535</td>\n",
       "      <td>0.36918</td>\n",
       "      <td>124.1713</td>\n",
       "      <td>0.22726</td>\n",
       "      <td>43.92</td>\n",
       "      <td>0.31933</td>\n",
       "    </tr>\n",
       "    <tr>\n",
       "      <th>2010-01-07</th>\n",
       "      <td>7.521</td>\n",
       "      <td>0.37071</td>\n",
       "      <td>123.7415</td>\n",
       "      <td>0.22640</td>\n",
       "      <td>44.79</td>\n",
       "      <td>0.31422</td>\n",
       "    </tr>\n",
       "  </tbody>\n",
       "</table>\n",
       "</div>"
      ],
      "text/plain": [
       "            Spot A    Vol A    Spot B    Vol B  Spot C    Vol C\n",
       "Dates                                                          \n",
       "2010-01-01   7.526  0.37458  125.0310  0.23275   41.67  0.35088\n",
       "2010-01-04   7.643  0.37428  126.5115  0.23198   42.85  0.34045\n",
       "2010-01-05   7.656  0.38004  124.9832  0.23318   43.68  0.33323\n",
       "2010-01-06   7.535  0.36918  124.1713  0.22726   43.92  0.31933\n",
       "2010-01-07   7.521  0.37071  123.7415  0.22640   44.79  0.31422"
      ]
     },
     "execution_count": 4,
     "metadata": {},
     "output_type": "execute_result"
    }
   ],
   "source": [
    "risk_factors = pd.read_csv('../DATA/Histdata_equity.csv',index_col=0,parse_dates=True)\n",
    "\n",
    "risk_factors['Vol A'] /= 100\n",
    "risk_factors['Vol B'] /= 100\n",
    "risk_factors['Vol C'] /= 100\n",
    "\n",
    "risk_factors.head()"
   ]
  },
  {
   "cell_type": "code",
   "execution_count": 5,
   "metadata": {},
   "outputs": [],
   "source": [
    "class Portfolio_Delta_NPV_Calculator:\n",
    "\n",
    "    def __init__(self, notionals ,contracts):\n",
    "        self.contracts = contracts\n",
    "        self.notionals = notionals\n",
    "\n",
    "    def value(self,t ,risk_factors):\n",
    "\n",
    "        portfolio_value = np.zeros(risk_factors.shape[0])\n",
    "        component_values = np.zeros((risk_factors.shape[0],len(self.contracts)))\n",
    "\n",
    "        for i, (n, c) in enumerate(zip(self.notionals,self.contracts)):\n",
    "            \n",
    "            component_values[:,i] = c(t,risk_factors)\n",
    "            portfolio_value += n*component_values[:,i]\n",
    "\n",
    "        return portfolio_value, component_values\n",
    "    \n",
    "    def compute_scenarios_pl(self, risk_factors_base_scenario, delta_t, risk_factors_shocked):\n",
    "        \n",
    "        portfolio_value_base_scenario, component_values_base_scenario = self.value(0,risk_factors_base_scenario)\n",
    "\n",
    "        portfolio_value_shocked, component_values_shocked  = self.value(delta_t,risk_factors_shocked)\n",
    "\n",
    "        return portfolio_value_shocked - portfolio_value_base_scenario, component_values_shocked - component_values_base_scenario\n",
    "\n",
    "        "
   ]
  },
  {
   "cell_type": "code",
   "execution_count": 6,
   "metadata": {},
   "outputs": [],
   "source": [
    "horizon = 10\n",
    "\n",
    "portfolio = [lambda t,risk_factors: risk_factors[:,0],\n",
    "            lambda t,risk_factors: Option_formulas.BlackScholes(risk_factors[:,0], 125,0.5-t,0.01, 0.0, risk_factors[:,1], False),\n",
    "            lambda t,risk_factors: risk_factors[:,2],\n",
    "            lambda t,risk_factors: Option_formulas.BlackScholes(risk_factors[:,2], 150,0.5-t,0.01, 0.0, risk_factors[:,3], True),\n",
    "            lambda t,risk_factors: Option_formulas.BlackScholes(risk_factors[:,4], 135,0.5-t,0.01, 0.0, risk_factors[:,5], True)]\n",
    "\n",
    "notionals = [1,1,1,-1,-1]\n",
    "\n",
    "\n",
    "\n",
    "base_scenario = risk_factors.values[-1].reshape(1,-1)\n",
    "\n",
    "\n",
    "risk_factors_shocked = base_scenario* risk_factors.values[10:]/risk_factors.values[:-10]\n",
    "            \n",
    "\n",
    "portfolio_calculator = Portfolio_Delta_NPV_Calculator(notionals,portfolio) \n",
    "\n",
    "\n",
    "portfolio_pl, constituents_pl = portfolio_calculator.compute_scenarios_pl(base_scenario,0,risk_factors_shocked)"
   ]
  },
  {
   "cell_type": "code",
   "execution_count": 7,
   "metadata": {},
   "outputs": [
    {
     "data": {
      "image/png": "[encoded data removed]",
      "text/plain": [
       "<Figure size 640x480 with 1 Axes>"
      ]
     },
     "metadata": {},
     "output_type": "display_data"
    }
   ],
   "source": [
    "plt.hist(portfolio_pl,bins=100);"
   ]
  },
  {
   "cell_type": "code",
   "execution_count": 8,
   "metadata": {},
   "outputs": [
    {
     "data": {
      "text/plain": [
       "6.853310610517585"
      ]
     },
     "execution_count": 8,
     "metadata": {},
     "output_type": "execute_result"
    }
   ],
   "source": [
    "np.std(portfolio_pl,ddof=1)"
   ]
  },
  {
   "cell_type": "code",
   "execution_count": 9,
   "metadata": {},
   "outputs": [
    {
     "data": {
      "text/plain": [
       "array([[6.85331061]])"
      ]
     },
     "execution_count": 9,
     "metadata": {},
     "output_type": "execute_result"
    }
   ],
   "source": [
    "C = np.cov(constituents_pl.T)\n",
    "w = np.array(notionals).reshape(-1,1)\n",
    "\n",
    "std = np.sqrt(w.T @ C @ w)\n",
    "\n",
    "std"
   ]
  },
  {
   "cell_type": "code",
   "execution_count": 55,
   "metadata": {},
   "outputs": [
    {
     "data": {
      "text/plain": [
       "array([[8.8817842e-16]])"
      ]
     },
     "execution_count": 55,
     "metadata": {},
     "output_type": "execute_result"
    }
   ],
   "source": [
    "std -np.std(portfolio_pl,ddof=1)"
   ]
  },
  {
   "cell_type": "code",
   "execution_count": 10,
   "metadata": {},
   "outputs": [],
   "source": [
    "import torch"
   ]
  },
  {
   "cell_type": "code",
   "execution_count": 29,
   "metadata": {},
   "outputs": [
    {
     "name": "stdout",
     "output_type": "stream",
     "text": [
      "tensor([[ 0.9616],\n",
      "        [-0.2876],\n",
      "        [ 0.4907],\n",
      "        [-0.1872],\n",
      "        [ 0.0224]], dtype=torch.float64, grad_fn=<DivBackward0>)\n",
      "tensor(1.0000, dtype=torch.float64, grad_fn=<MulBackward0>)\n"
     ]
    }
   ],
   "source": [
    "C_torch = torch.tensor(C, requires_grad=True,dtype=torch.float64)\n",
    "w_torch = torch.tensor(w, requires_grad=True, dtype=torch.float64)\n",
    "\n",
    "std_torch = torch.sqrt(w_torch.T @ C_torch @ w_torch)[0,0]\n",
    "\n",
    "\n",
    "std_torch.backward()\n",
    "\n",
    "print(w_torch*w_torch.grad / std_torch) \n",
    "\n",
    "print(np.sum(w_torch.detach().numpy()*w_torch.grad.numpy())/ std_torch )"
   ]
  },
  {
   "cell_type": "code",
   "execution_count": 32,
   "metadata": {},
   "outputs": [
    {
     "data": {
      "text/plain": [
       "tensor([[ 6.5899],\n",
       "        [-1.9709],\n",
       "        [ 3.3632],\n",
       "        [ 1.2826],\n",
       "        [-0.1537]], dtype=torch.float64)"
      ]
     },
     "execution_count": 32,
     "metadata": {},
     "output_type": "execute_result"
    }
   ],
   "source": [
    "w_torch.grad"
   ]
  },
  {
   "cell_type": "code",
   "execution_count": 33,
   "metadata": {},
   "outputs": [
    {
     "data": {
      "text/plain": [
       "tensor([[ 6.5899],\n",
       "        [-1.9709],\n",
       "        [ 3.3632],\n",
       "        [ 1.2826],\n",
       "        [-0.1537]], dtype=torch.float64, grad_fn=<DivBackward0>)"
      ]
     },
     "execution_count": 33,
     "metadata": {},
     "output_type": "execute_result"
    }
   ],
   "source": [
    "C_torch @ w_torch / std_torch"
   ]
  },
  {
   "cell_type": "code",
   "execution_count": 69,
   "metadata": {},
   "outputs": [
    {
     "data": {
      "text/plain": [
       "array([[  0.73611714,  32.57275946,   0.49455613, -41.54023273,\n",
       "         -0.5013736 , -37.09524587]])"
      ]
     },
     "execution_count": 69,
     "metadata": {},
     "output_type": "execute_result"
    }
   ],
   "source": [
    "portfolio_torch = [lambda risk_factors: risk_factors[:,0],\n",
    "            lambda risk_factors: pytorch_option_formulas.BlackScholes(risk_factors[:,0], torch.tensor(125.0),\n",
    "                torch.tensor(0.5), torch.tensor(0.01), torch.tensor(0.0), risk_factors[:,1], False),\n",
    "            lambda risk_factors: risk_factors[:,2],\n",
    "            lambda risk_factors: pytorch_option_formulas.BlackScholes(risk_factors[:,2], torch.tensor(150.0),\n",
    "                torch.tensor(0.5), torch.tensor(0.01), torch.tensor(0.0), risk_factors[:,3], True),\n",
    "            lambda risk_factors: pytorch_option_formulas.BlackScholes(risk_factors[:,4], torch.tensor(135.0),\n",
    "                torch.tensor(0.5), torch.tensor(0.01), torch.tensor(0.0), risk_factors[:,5], True)]\n",
    "\n",
    "base_scenario_torch = torch.tensor(base_scenario, requires_grad=True,dtype=torch.float64)\n",
    "w_torch = torch.tensor(w, requires_grad=True, dtype=torch.float64)\n",
    "\n",
    "base_scenario_NPV_constituents = [p(base_scenario_torch) for p in portfolio_torch]\n",
    "\n",
    "base_scenario_NPV = torch.sum(w_torch * torch.stack(base_scenario_NPV_constituents))\n",
    "\n",
    "base_scenario_NPV.backward()\n",
    "\n",
    "sens = base_scenario_torch.grad.numpy()\n",
    "\n",
    "sens\n"
   ]
  },
  {
   "cell_type": "code",
   "execution_count": 74,
   "metadata": {},
   "outputs": [],
   "source": [
    "npv_sens = np.sum((risk_factors_shocked - base_scenario)* sens, axis = 1)"
   ]
  },
  {
   "cell_type": "code",
   "execution_count": 75,
   "metadata": {},
   "outputs": [
    {
     "data": {
      "text/plain": [
       "[<matplotlib.lines.Line2D at 0x2505fe20cd0>]"
      ]
     },
     "execution_count": 75,
     "metadata": {},
     "output_type": "execute_result"
    },
    {
     "data": {
      "image/png": "[encoded data removed]",
      "text/plain": [
       "<Figure size 640x480 with 1 Axes>"
      ]
     },
     "metadata": {},
     "output_type": "display_data"
    }
   ],
   "source": [
    "plt.plot(portfolio_pl, npv_sens, 'o')"
   ]
  },
  {
   "cell_type": "code",
   "execution_count": 76,
   "metadata": {},
   "outputs": [
    {
     "data": {
      "text/plain": [
       "(6.853310610517585, 6.681837727183785)"
      ]
     },
     "execution_count": 76,
     "metadata": {},
     "output_type": "execute_result"
    }
   ],
   "source": [
    "np.std(portfolio_pl,ddof=1), np.std(npv_sens,ddof=1)"
   ]
  },
  {
   "cell_type": "code",
   "execution_count": 77,
   "metadata": {},
   "outputs": [],
   "source": [
    "df = pd.DataFrame({'NPV':portfolio_pl, 'Sens':npv_sens})"
   ]
  },
  {
   "cell_type": "markdown",
   "metadata": {},
   "source": []
  },
  {
   "cell_type": "code",
   "execution_count": 78,
   "metadata": {},
   "outputs": [
    {
     "data": {
      "text/plain": [
       "<Axes: >"
      ]
     },
     "execution_count": 78,
     "metadata": {},
     "output_type": "execute_result"
    },
    {
     "data": {
      "image/png": "[encoded data removed]",
      "text/plain": [
       "<Figure size 640x480 with 1 Axes>"
      ]
     },
     "metadata": {},
     "output_type": "display_data"
    }
   ],
   "source": [
    "df.rolling(250).std().plot()"
   ]
  },
  {
   "cell_type": "code",
   "execution_count": null,
   "metadata": {},
   "outputs": [],
   "source": []
  }
 ],
 "metadata": {
  "kernelspec": {
   "display_name": "definitive",
   "language": "python",
   "name": "python3"
  },
  "language_info": {
   "codemirror_mode": {
    "name": "ipython",
    "version": 3
   },
   "file_extension": ".py",
   "mimetype": "text/x-python",
   "name": "python",
   "nbconvert_exporter": "python",
   "pygments_lexer": "ipython3",
   "version": "3.11.8"
  }
 },
 "nbformat": 4,
 "nbformat_minor": 2
}
