{
  "cells": [
    {
      "cell_type": "markdown",
      "metadata": {
        "id": "qHTFQ5Y7vD49"
      },
      "source": [
        "# Quantitative Risk Management\n",
        "\n",
        "Click <a href=\"https://colab.research.google.com/github/Lolillosky/QuantRiskManagement/blob/main/NOTEBOOKS/2_access_hist_data.ipynb\">\n",
        "    <img src=\"https://upload.wikimedia.org/wikipedia/commons/d/d0/Google_Colaboratory_SVG_Logo.svg\" width=\"30\" alt=\"Google Colab\">\n",
        "</a> to open this notebook in Google Colab."
      ]
    },
    {
      "cell_type": "code",
      "execution_count": 1,
      "metadata": {
        "id": "ycNS08hhu-IG"
      },
      "outputs": [],
      "source": [
        "from IPython.display import clear_output\n",
        "\n",
        "!rm -r {'QuantRiskManagement'}\n",
        "\n",
        "!git clone https://github.com/Lolillosky/QuantRiskManagement.git\n",
        "\n",
        "import sys\n",
        "sys.modules.pop\n",
        "sys.path.insert(0,'QuantRiskManagement/CODE')\n",
        "\n",
        "clear_output()"
      ]
    },
    {
      "cell_type": "code",
      "execution_count": 2,
      "metadata": {
        "id": "ylp8ktx2vUSg"
      },
      "outputs": [],
      "source": [
        "import pandas as pd\n",
        "data = pd.read_csv('/content/QuantRiskManagement/DATA/Histdata_equity.csv')\n",
        "data.tail()"
      ]
    }
  ],
  "metadata": {
    "colab": {
      "provenance": []
    },
    "kernelspec": {
      "display_name": "Python 3",
      "name": "python3"
    },
    "language_info": {
      "name": "python"
    }
  },
  "nbformat": 4,
  "nbformat_minor": 0
}
