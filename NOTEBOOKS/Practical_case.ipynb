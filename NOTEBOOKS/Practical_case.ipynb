{
 "cells": [
  {
   "cell_type": "markdown",
   "metadata": {},
   "source": [
    "# Quantitative Risk Management\n",
    "\n",
    "Click <a href=\"https://colab.research.google.com/github/Lolillosky/QuantRiskManagement/blob/main/NOTEBOOKS/Practical_case.ipynb\">\n",
    "    <img src=\"https://upload.wikimedia.org/wikipedia/commons/d/d0/Google_Colaboratory_SVG_Logo.svg\" width=\"30\" alt=\"Google Colab\">\n",
    "</a> to open this notebook in Google Colab.\n",
    "\n",
    "Let us import the main libraries:"
   ]
  },
  {
   "cell_type": "code",
   "execution_count": null,
   "metadata": {},
   "outputs": [],
   "source": [
    "import pandas as pd\n",
    "import numpy as np\n",
    "import matplotlib.pyplot as plt\n",
    "import torch"
   ]
  },
  {
   "cell_type": "markdown",
   "metadata": {},
   "source": [
    "## Import the following libraries from the repository:"
   ]
  },
  {
   "cell_type": "code",
   "execution_count": null,
   "metadata": {},
   "outputs": [],
   "source": [
    "import sys\n",
    "#sys.path.append('../CODE')  # Adjust the path as necessary\n",
    "\n",
    "\n",
    "from IPython.display import clear_output\n",
    "\n",
    "\n",
    "!rm -r {'QuantRiskManagement'}\n",
    "\n",
    "!git clone https://github.com/Lolillosky/QuantRiskManagement.git\n",
    "\n",
    "import sys\n",
    "sys.modules.pop\n",
    "sys.path.insert(0,'QuantRiskManagement/CODE')\n",
    "\n",
    "clear_output()\n"
   ]
  },
  {
   "cell_type": "markdown",
   "metadata": {},
   "source": [
    "Consider a portolio with 3 underlying assets: A, B, C.\n",
    "\n",
    "The portfolio is comprised of the following:\n",
    "\n",
    "* A long call option with strike $140$ on A with maturity 3 years.\n",
    "* A long call option with strike $147$ on B with maturity 2 years.\n",
    "* A short call option with strike $130$ on C  with maturity 1 years.\n",
    "\n",
    "Historical market data is included in the following dataframe:"
   ]
  },
  {
   "cell_type": "code",
   "execution_count": null,
   "metadata": {},
   "outputs": [],
   "source": [
    "risk_factors = pd.read_csv('../DATA/Histdata_equity.csv',index_col=0,parse_dates=True)\n",
    "#risk_factors = pd.read_csv('/content/QuantRiskManagement/DATA/Histdata_equity.csv',index_col=0,parse_dates=True)\n",
    "\n",
    "risk_factors['Vol A'] /= 100\n",
    "risk_factors['Vol B'] /= 100\n",
    "risk_factors['Vol C'] /= 100\n",
    "\n",
    "risk_factors.tail()"
   ]
  },
  {
   "cell_type": "markdown",
   "metadata": {},
   "source": [
    "Use as a base scenario the market data as of 2022-12-07 (last date in dataframe).\n",
    "\n",
    "Assume risk free rate = 1% and dividends = 0% for the 3 underlying assets.\n",
    "\n",
    "## 1. Value de Portolio (0.5/10)\n",
    "\n",
    "You can use the functions in Option_formulas.py"
   ]
  },
  {
   "cell_type": "code",
   "execution_count": null,
   "metadata": {},
   "outputs": [],
   "source": [
    "# Your code here"
   ]
  },
  {
   "cell_type": "markdown",
   "metadata": {},
   "source": [
    "## 2. Compute the deltas and vegas of the portfolio (0.5/10)\n",
    "\n",
    "You can use the functions in pytorch_option_formulas.py"
   ]
  },
  {
   "cell_type": "code",
   "execution_count": null,
   "metadata": {},
   "outputs": [],
   "source": [
    "# Your code here"
   ]
  },
  {
   "cell_type": "markdown",
   "metadata": {},
   "source": [
    "## 3. Compute the VaR, and CVaR with 97.5% confidence level (1.5/10).\n",
    "\n",
    "In order to do so, shock the base scenario with 10 day overlapping shocks in the dataframe, so that:\n",
    "\n",
    "$$\\theta_j^i=\\theta_j^0\\frac{\\theta_j^{t_i}}{\\theta_j^{t_{i-10}}}$$\n",
    "\n",
    "$i$: scenario index.\n",
    "$j$: risk factor index. "
   ]
  },
  {
   "cell_type": "code",
   "execution_count": null,
   "metadata": {},
   "outputs": [],
   "source": [
    "# Your code here"
   ]
  },
  {
   "cell_type": "markdown",
   "metadata": {},
   "source": [
    "## 4. Compute the marginal contribution to VaR and CVaR for every position in the portfolio (2.0/10)."
   ]
  },
  {
   "cell_type": "code",
   "execution_count": null,
   "metadata": {},
   "outputs": [],
   "source": [
    "# Your code here"
   ]
  },
  {
   "cell_type": "markdown",
   "metadata": {},
   "source": [
    "## 5. Delta hedge your portolio (1.0/10).\n",
    "\n",
    "Compute the notional to be traded in the following instruments:\n",
    "\n",
    "* A forward with strike 140 on underlying A and maturity 1 year.\n",
    "* A forward with strike 147 on underlying B and maturity 1 year.\n",
    "* A forward with strike 130 on underlying C and maturity 1 year.\n",
    "\n"
   ]
  },
  {
   "cell_type": "code",
   "execution_count": null,
   "metadata": {},
   "outputs": [],
   "source": [
    "# Your code here"
   ]
  },
  {
   "cell_type": "markdown",
   "metadata": {},
   "source": []
  },
  {
   "cell_type": "markdown",
   "metadata": {},
   "source": [
    "## 6. Compute VaR, and CVaR of the hedged portfolio (1.5/10)."
   ]
  },
  {
   "cell_type": "code",
   "execution_count": null,
   "metadata": {},
   "outputs": [],
   "source": [
    "# Your code here"
   ]
  },
  {
   "cell_type": "markdown",
   "metadata": {},
   "source": [
    "## 7. Compute credit exposure of the original portolio (EPE, and 97.5% PFE) (2.0/10).  \n",
    "\n",
    "In order to do so, assume that the different underlying assets are simulated with implied volatilies as of 2022-12-07.\n",
    "\n",
    "With respect to the correlation matrix, use the correlation matrix of daily percentage changes of the 3 underlying assets during 2022.\n",
    "\n",
    "Take 100 simulation steps per year."
   ]
  },
  {
   "cell_type": "code",
   "execution_count": null,
   "metadata": {},
   "outputs": [],
   "source": [
    "# Your code here"
   ]
  },
  {
   "cell_type": "markdown",
   "metadata": {},
   "source": [
    "## 8. Compute the CVA of the original portfolio (1.0/10).\n",
    "\n",
    "Assume flat interest rate curve of 1%.\n",
    "Assume flat interest rate curve of 0.5%.\n"
   ]
  },
  {
   "cell_type": "code",
   "execution_count": null,
   "metadata": {},
   "outputs": [],
   "source": [
    "# Your code here"
   ]
  },
  {
   "cell_type": "markdown",
   "metadata": {},
   "source": []
  }
 ],
 "metadata": {
  "kernelspec": {
   "display_name": "definitive",
   "language": "python",
   "name": "python3"
  },
  "language_info": {
   "codemirror_mode": {
    "name": "ipython",
    "version": 3
   },
   "file_extension": ".py",
   "mimetype": "text/x-python",
   "name": "python",
   "nbconvert_exporter": "python",
   "pygments_lexer": "ipython3",
   "version": "3.10.13"
  }
 },
 "nbformat": 4,
 "nbformat_minor": 2
}
