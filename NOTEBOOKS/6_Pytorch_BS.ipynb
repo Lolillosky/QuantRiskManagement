{
 "cells": [
  {
   "cell_type": "markdown",
   "metadata": {},
   "source": [
    "# Quantitative Risk Management\n",
    "\n",
    "Click <a href=\"https://colab.research.google.com/github/Lolillosky/QuantRiskManagement/blob/main/NOTEBOOKS/6_Pytorch_BS.ipynb\">\n",
    "    <img src=\"https://upload.wikimedia.org/wikipedia/commons/d/d0/Google_Colaboratory_SVG_Logo.svg\" width=\"30\" alt=\"Google Colab\">\n",
    "</a> to open this notebook in Google Colab.\n"
   ]
  },
  {
   "cell_type": "code",
   "execution_count": null,
   "metadata": {},
   "outputs": [],
   "source": [
    "from IPython.display import clear_output\n",
    "\n",
    "!rm -r {'QuantRiskManagement'}\n",
    "\n",
    "!git clone https://github.com/Lolillosky/QuantRiskManagement.git\n",
    "\n",
    "import sys\n",
    "sys.modules.pop\n",
    "sys.path.insert(0,'QuantRiskManagement/CODE')\n",
    "\n",
    "clear_output()"
   ]
  },
  {
   "cell_type": "markdown",
   "metadata": {},
   "source": [
    "Change the implementation from numpy to Pytorch."
   ]
  },
  {
   "cell_type": "code",
   "execution_count": null,
   "metadata": {},
   "outputs": [],
   "source": [
    "from scipy.stats import norm\n",
    "import numpy as np\n",
    "\n",
    "def BlackScholes(Spot, Strike, TTM, rate, div, Vol, IsCall):\n",
    "    \"\"\"\n",
    "    Calculate the Black-Scholes option pricing model.\n",
    "\n",
    "    Args:\n",
    "    - Spot (float): Current price of the underlying asset.\n",
    "    - Strike (float): Strike price of the option.\n",
    "    - TTM (float): Time to maturity of the option, in years.\n",
    "    - rate (float): Risk-free interest rate, as a decimal.\n",
    "    - div (float): Dividend yield of the asset, as a decimal.\n",
    "    - Vol (float): Volatility of the asset's returns, as a decimal.\n",
    "    - IsCall (bool): True if the option is a call option, False if it is a put option.\n",
    "\n",
    "    Returns:\n",
    "    - float: The Black-Scholes price of the option.\n",
    "    \"\"\"\n",
    "    \n",
    "    N = norm.cdf  # Standard normal cumulative distribution function\n",
    "\n",
    "    if TTM > 0:  # Positive time to maturity\n",
    "        # Calculation of d1 and d2 using Black-Scholes formula components\n",
    "        d1 = (np.log(Spot/Strike) + (rate - div + Vol**2 / 2) * TTM) / (Vol * np.sqrt(TTM))\n",
    "        d2 = (np.log(Spot/Strike) + (rate - div - Vol**2 / 2) * TTM) / (Vol * np.sqrt(TTM))\n",
    "        \n",
    "        if IsCall:  # Call option pricing formula\n",
    "            return Spot * np.exp(-div * TTM) * N(d1) - Strike * np.exp(-rate * TTM) * N(d2)\n",
    "        else:  # Put option pricing formula\n",
    "            return -Spot * np.exp(-div * TTM) * N(-d1) + Strike * np.exp(-rate * TTM) * N(-d2)\n",
    "    else:  # At or past maturity\n",
    "        if IsCall:  # Intrinsic value for call\n",
    "            return np.maximum(Spot - Strike, 0)\n",
    "        else:  # Intrinsic value for put\n",
    "            return np.maximum(-Spot + Strike, 0)\n"
   ]
  },
  {
   "cell_type": "markdown",
   "metadata": {},
   "source": [
    "Compare the different sensitivities obtained with AD to those given by the closed form formulas."
   ]
  },
  {
   "cell_type": "markdown",
   "metadata": {},
   "source": []
  }
 ],
 "metadata": {
  "kernelspec": {
   "display_name": "definitive",
   "language": "python",
   "name": "python3"
  },
  "language_info": {
   "codemirror_mode": {
    "name": "ipython",
    "version": 3
   },
   "file_extension": ".py",
   "mimetype": "text/x-python",
   "name": "python",
   "nbconvert_exporter": "python",
   "pygments_lexer": "ipython3",
   "version": "3.10.13"
  }
 },
 "nbformat": 4,
 "nbformat_minor": 2
}
